{
 "cells": [
  {
   "cell_type": "code",
   "execution_count": 2,
   "metadata": {},
   "outputs": [],
   "source": [
    "import pandas as pd\n",
    "import os\n",
    "import numpy as np\n",
    "import matplotlib.pyplot as plt\n",
    "import seaborn as sns\n",
    "from sklearn.linear_model import LinearRegression\n",
    "from sklearn.model_selection import train_test_split\n",
    "from sklearn.preprocessing import MinMaxScaler\n",
    "\n",
    "# 데이터 인덱스 뷰 키우기\n",
    "pd.set_option('display.max_row', 600)\n",
    "\n",
    "# 모든 데이터 내용 다 보이게하기\n",
    "pd.set_option('display.max_colwidth', 50)\n",
    "\n",
    "df1 = pd.read_csv(\"./data/[Track1_데이터1] mrc_info.csv\", encoding='cp949')\n",
    "df2 = pd.read_csv(\"./data/[Track1_데이터2] samp_train.csv\")\n",
    "df3 = pd.read_csv(\"./data/[Track1_데이터3] samp_cst_feat.csv\")\n",
    "\n",
    "key = pd.merge(df2, df1, on = \"MRC_ID_DI\")\n",
    "df = pd.merge(key, df3, on = \"cst_id_di\")\n",
    "# 온라인 가맹점 번호 = label\n",
    "df = df.rename({\"cst_id_di\":\"고객관리번호\", 'MRC_ID_DI':\"label\", 'Category':\"업종\"}, axis=1)\n",
    "df_e = df.drop([\"고객관리번호\",\"업종\"],axis = 1)\n",
    "df_x = df.drop([\"고객관리번호\",\"업종\",\"label\"],axis = 1)\n",
    "df_y = df[['label']]\n",
    "\n",
    "\n",
    "x_train, x_test, y_train, y_test = train_test_split(df_x, df_y, train_size=0.8, test_size=0.2)\n",
    "\n",
    "scaler = MinMaxScaler()\n",
    "df_x_n = scaler.fit_transform(df_x[:])\n",
    "x_train_n, x_test_n, y_train, y_test = train_test_split(df_x_n, df_y, train_size=0.8, test_size=0.2)\n",
    "\n",
    "\n",
    "corr_set= df_x.corr().abs().unstack().sort_values(ascending=False)\n",
    "corr_set_index = corr_set[(corr_set>0.9) & (corr_set!=1)].index\n",
    "corr_set_index = corr_set_index[range(0,len(corr_set_index),2)]\n",
    "remove_column = []\n",
    "for all_index in corr_set_index:\n",
    "    remove_column.append(all_index[0])\n",
    "df_remove_corr = df_x.drop(list(set(remove_column)),axis=1)"
   ]
  },
  {
   "cell_type": "markdown",
   "metadata": {},
   "source": [
    "상관계수 높은 독립변수 제거"
   ]
  },
  {
   "cell_type": "code",
   "execution_count": 11,
   "metadata": {},
   "outputs": [],
   "source": [
    "\n",
    "corr_set= df_x.corr().abs().unstack().sort_values(ascending=False)\n",
    "corr_set_index = corr_set[(corr_set>0.9) & (corr_set!=1)].index\n",
    "corr_set_index = corr_set[(corr_set>0.9) & (corr_set!=1)].index[range(0,len(corr_set_index),2)]\n",
    "remove_column = []\n",
    "for all_index in corr_set_index:\n",
    "    remove_column.append(all_index[0])\n",
    "df_remove_corr = df_x.drop(list(set(remove_column)),axis=1)"
   ]
  },
  {
   "cell_type": "code",
   "execution_count": null,
   "metadata": {},
   "outputs": [],
   "source": []
  }
 ],
 "metadata": {
  "kernelspec": {
   "display_name": "Python 3",
   "language": "python",
   "name": "python3"
  },
  "language_info": {
   "codemirror_mode": {
    "name": "ipython",
    "version": 3
   },
   "file_extension": ".py",
   "mimetype": "text/x-python",
   "name": "python",
   "nbconvert_exporter": "python",
   "pygments_lexer": "ipython3",
   "version": "3.6.10"
  }
 },
 "nbformat": 4,
 "nbformat_minor": 4
}
